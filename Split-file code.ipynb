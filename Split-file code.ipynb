{
  "cells": [
    {
      "cell_type": "markdown",
      "metadata": {
        "id": "view-in-github",
        "colab_type": "text"
      },
      "source": [
        "<a href=\"https://colab.research.google.com/github/VIJAYDON544/FileSharingBot2/blob/main/Split-file%20code.ipynb\" target=\"_parent\"><img src=\"https://colab.research.google.com/assets/colab-badge.svg\" alt=\"Open In Colab\"/></a>"
      ]
    },
    {
      "cell_type": "code",
      "source": [
        "from google.colab import drive\n",
        "drive.mount('/content/drive')"
      ],
      "metadata": {
        "colab": {
          "base_uri": "https://localhost:8080/"
        },
        "id": "wKqqvnudB4R_",
        "outputId": "dc6751c5-c5b6-4fd5-a7b7-16eb4173befa"
      },
      "execution_count": 1,
      "outputs": [
        {
          "output_type": "stream",
          "name": "stdout",
          "text": [
            "Mounted at /content/drive\n"
          ]
        }
      ]
    },
    {
      "cell_type": "code",
      "source": [
        "input-file = \"/content/drive/Shareddrives/TeluguBhasha/www.1TamilMV.team - Cadaver (2022) TRUE WEB-DL - 4K HQ SDR - HEVC - (DD+5.1 - 192Kbps) [Tam (ATMOS) + Tel + Hin + Mal + Kan] - 18GB - ESub.mkv\"\n",
        "output-file = \"/content/drive/Shareddrives/TeluguBhasha/www.1TamilMV.team - Cadaver (2022) TRUE WEB-DL - 4K HQ SDR - HEVC - (DD+5.1 - 192Kbps) [Tam (ATMOS) + Tel + Hin + Mal + Kan] - 18GB - ESub.mkv-p\"\n",
        "split-size = \"1900M\"\n",
        "!split -b split-size input-file -d output-file"
      ],
      "metadata": {
        "id": "bIfQ5LcUH4US",
        "outputId": "c3262f76-b440-40fa-9e32-1defb917186b",
        "colab": {
          "base_uri": "https://localhost:8080/",
          "height": 171
        }
      },
      "execution_count": 11,
      "outputs": [
        {
          "output_type": "error",
          "ename": "SyntaxError",
          "evalue": "ignored",
          "traceback": [
            "\u001b[0;36m  File \u001b[0;32m\"<ipython-input-11-3cd097c4c18b>\"\u001b[0;36m, line \u001b[0;32m1\u001b[0m\n\u001b[0;31m    input-file = \"/content/drive/Shareddrives/TeluguBhasha/www.1TamilMV.team - Cadaver (2022) TRUE WEB-DL - 4K HQ SDR - HEVC - (DD+5.1 - 192Kbps) [Tam (ATMOS) + Tel + Hin + Mal + Kan] - 18GB - ESub.mkv\"\u001b[0m\n\u001b[0m                                                                                                                                                                                                          ^\u001b[0m\n\u001b[0;31mSyntaxError\u001b[0m\u001b[0;31m:\u001b[0m can't assign to operator\n"
          ]
        }
      ]
    },
    {
      "cell_type": "code",
      "source": [
        "name = \"HI MY NAME\"\n",
        "!echo \"$name\""
      ],
      "metadata": {
        "id": "cuhVEv86M1Qa",
        "outputId": "9f8aaf4a-093a-4fc1-83f4-eb59cacf65f7",
        "colab": {
          "base_uri": "https://localhost:8080/"
        }
      },
      "execution_count": 27,
      "outputs": [
        {
          "output_type": "stream",
          "name": "stdout",
          "text": [
            "HI MY NAME\n"
          ]
        }
      ]
    },
    {
      "cell_type": "code",
      "source": [
        "#@title SPLIT FILE CODE\n",
        "input_filename = \"/content/drive/Shareddrives/TeluguBhasha/www.1TamilMV.team - Cadaver (2022) TRUE WEB-DL - 4K HQ SDR - HEVC - (DD+5.1 - 192Kbps) [Tam (ATMOS) + Tel + Hin + Mal + Kan] - 18GB - ESub.mkv\" #@param {type:\"string\"}\n",
        "output_filename = \"/content/drive/Shareddrives/TeluguBhasha/www.1TamilMV.team - Cadaver (2022) TRUE WEB-DL - 4K HQ SDR - HEVC - (DD+5.1 - 192Kbps) [Tam (ATMOS) + Tel + Hin + Mal + Kan] - 18GB - ESub.mkv-P\" #@param {type:\"string\"}\n",
        "split_size = \"1900M\" #@param {type:\"string\"}\n",
        "!split -b \"$split_size\" \"$input_filename\" -d \"$output_filename\""
      ],
      "metadata": {
        "id": "SIL-qFlqJesK"
      },
      "execution_count": null,
      "outputs": []
    }
  ],
  "metadata": {
    "colab": {
      "collapsed_sections": [],
      "name": "Welcome To Colaboratory",
      "provenance": [],
      "include_colab_link": true
    },
    "kernelspec": {
      "display_name": "Python 3",
      "name": "python3"
    }
  },
  "nbformat": 4,
  "nbformat_minor": 0
}