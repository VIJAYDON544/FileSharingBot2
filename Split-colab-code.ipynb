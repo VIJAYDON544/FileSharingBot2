{
  "cells": [
    {
      "cell_type": "markdown",
      "metadata": {
        "id": "view-in-github",
        "colab_type": "text"
      },
      "source": [
        "<a href=\"https://colab.research.google.com/github/VIJAYDON544/FileSharingBot2/blob/main/Split-colab-code.ipynb\" target=\"_parent\"><img src=\"https://colab.research.google.com/assets/colab-badge.svg\" alt=\"Open In Colab\"/></a>"
      ]
    },
    {
      "cell_type": "code",
      "source": [
        "from google.colab import drive\n",
        "drive.mount('/content/drive')"
      ],
      "metadata": {
        "colab": {
          "base_uri": "https://localhost:8080/"
        },
        "id": "wKqqvnudB4R_",
        "outputId": "dc6751c5-c5b6-4fd5-a7b7-16eb4173befa"
      },
      "execution_count": 1,
      "outputs": [
        {
          "output_type": "stream",
          "name": "stdout",
          "text": [
            "Mounted at /content/drive\n"
          ]
        }
      ]
    },
    {
      "cell_type": "code",
      "source": [
        "!split -b 1900M \"/content/drive/Shareddrives/1hdmovies737.ml-2/Files/Thank You/www.1hdmovies737.ml-11GB- Thank You (2022) Telugu TRUE WEB-DL - 4K HQ SDR - HEVC - UNTOUCHED - (DD+ 5.1 - 640Kbps & AAC 2.0) - 11.1GB - ESub.mkv\" -d \"/content/drive/Shareddrives/1hdmovies737.ml-2/Files/Thank You/S/www.1hdmovies737.ml-11GB- Thank You (2022) Telugu TRUE WEB-DL - 4K HQ SDR - HEVC - UNTOUCHED - (DD+ 5.1 - 640Kbps & AAC 2.0) - 11.1GB - ESub.mkv-P\""
      ],
      "metadata": {
        "id": "bO4k_C0wCQuH"
      },
      "execution_count": 5,
      "outputs": []
    }
  ],
  "metadata": {
    "colab": {
      "collapsed_sections": [],
      "name": "Welcome To Colaboratory",
      "provenance": [],
      "include_colab_link": true
    },
    "kernelspec": {
      "display_name": "Python 3",
      "name": "python3"
    }
  },
  "nbformat": 4,
  "nbformat_minor": 0
}